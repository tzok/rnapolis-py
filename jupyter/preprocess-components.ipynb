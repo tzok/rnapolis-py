{
 "cells": [
  {
   "cell_type": "code",
   "execution_count": 21,
   "metadata": {},
   "outputs": [],
   "source": [
    "import pandas as pd\n",
    "from mmcif.io.IoAdapterPy import IoAdapterPy\n",
    "\n",
    "adapter = IoAdapterPy()\n",
    "data = adapter.readFile(\"component.cif\")\n",
    "\n",
    "for i in range(len(data)):\n",
    "    category = data[i].getObj(\"chem_comp_atom\")\n",
    "    attributes = category.getAttributeList()\n",
    "    rows = category.getRowList()\n",
    "    records = [dict(zip(attributes, row)) for row in rows]\n",
    "    df = pd.DataFrame(records)\n",
    "    df.to_csv(f\"component_{data[i].getName()}.csv\", index=False)"
   ]
  }
 ],
 "metadata": {
  "kernelspec": {
   "display_name": "Python 3",
   "language": "python",
   "name": "python3"
  },
  "language_info": {
   "codemirror_mode": {
    "name": "ipython",
    "version": 3
   },
   "file_extension": ".py",
   "mimetype": "text/x-python",
   "name": "python",
   "nbconvert_exporter": "python",
   "pygments_lexer": "ipython3",
   "version": "3.13.1"
  }
 },
 "nbformat": 4,
 "nbformat_minor": 2
}
